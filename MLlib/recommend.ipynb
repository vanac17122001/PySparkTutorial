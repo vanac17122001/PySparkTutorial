{
 "cells": [
  {
   "cell_type": "code",
   "execution_count": 13,
   "metadata": {},
   "outputs": [],
   "source": [
    "from __future__ import print_function\n",
    "from pyspark import SparkContext\n",
    "from pyspark.mllib.recommendation import ALS, MatrixFactorizationModel, Rating "
   ]
  },
  {
   "cell_type": "code",
   "execution_count": 14,
   "metadata": {},
   "outputs": [
    {
     "name": "stdout",
     "output_type": "stream",
     "text": [
      "pred\n",
      "[(1, 1, 4.997241980956678), (1, 2, 1.0012010408264338), (1, 3, 4.997241980956678), (1, 4, 1.0012010408264338), (2, 1, 4.997241980956678), (2, 2, 1.0012010408264338), (2, 3, 4.997241980956678), (2, 4, 1.0012010408264338), (3, 1, 1.0014843526093313), (3, 2, 4.995825517237339), (3, 3, 1.0014843526093313), (3, 4, 4.995825517237339), (4, 1, 1.0014843526093313), (4, 2, 4.995825517237339), (4, 3, 1.0014843526093313), (4, 4, 4.995825517237339)]\n",
      "rates and preds\n",
      "[(1, (1, 1)), (1, (1, 2)), (1, (1, 3)), (1, (1, 4)), (1, (2, 1)), (1, (2, 2)), (1, (2, 3)), (1, (2, 4)), (1, (3, 1)), (1, (3, 2)), (1, (3, 3)), (1, (3, 4)), (1, (4, 1)), (1, (4, 2)), (1, (4, 3)), (1, (4, 4)), (2, (1, 1)), (2, (1, 2)), (2, (1, 3)), (2, (1, 4)), (2, (2, 1)), (2, (2, 2)), (2, (2, 3)), (2, (2, 4)), (2, (3, 1)), (2, (3, 2)), (2, (3, 3)), (2, (3, 4)), (2, (4, 1)), (2, (4, 2)), (2, (4, 3)), (2, (4, 4)), (3, (1, 1)), (3, (1, 2)), (3, (1, 3)), (3, (1, 4)), (3, (2, 1)), (3, (2, 2)), (3, (2, 3)), (3, (2, 4)), (3, (3, 1)), (3, (3, 2)), (3, (3, 3)), (3, (3, 4)), (3, (4, 1)), (3, (4, 2)), (3, (4, 3)), (3, (4, 4)), (4, (1, 1)), (4, (1, 2)), (4, (1, 3)), (4, (1, 4)), (4, (2, 1)), (4, (2, 2)), (4, (2, 3)), (4, (2, 4)), (4, (3, 1)), (4, (3, 2)), (4, (3, 3)), (4, (3, 4)), (4, (4, 1)), (4, (4, 2)), (4, (4, 3)), (4, (4, 4))]\n",
      "Mean Squared Error = 2.5000000000000004\n"
     ]
    }
   ],
   "source": [
    "if __name__ == \"__main__\":\n",
    "    sc = SparkContext.getOrCreate()\n",
    "    data = sc.textFile(\"../Datasets/test.data\")\n",
    "    ratings = data.map(lambda l: l.split(','))\\\n",
    "        .map(lambda l: Rating(int(l[0]), int(l[1]), float(l[2])))\n",
    "        \n",
    "    # Build the recommendation model using Alternating Least Squares \n",
    "    rank = 10\n",
    "    numIterations = 10\n",
    "    model = ALS.train(ratings, rank, numIterations)\n",
    "    \n",
    "    # Evaluate the model on training data \n",
    "    testdata = ratings.map(lambda p: (p[0],p[1]))\n",
    "    predictions = model.predictAll(testdata).map(lambda r : ((r[0],r[1],r[2])))\n",
    "    ratesAndPreds = ratings.map(lambda r : ((r[0], r[1], r[2]))).join(predictions)\n",
    "    \n",
    "    print(\"pred\")\n",
    "    print(predictions.collect())\n",
    "    \n",
    "    print(\"rates and preds\")\n",
    "    print(ratesAndPreds.collect())\n",
    "    \n",
    "    MSE = ratesAndPreds.map(lambda r: (r[1][0] - r[1][1])**2).mean()\n",
    "    print(\"Mean Squared Error = \" + str(MSE))    "
   ]
  },
  {
   "cell_type": "code",
   "execution_count": 15,
   "metadata": {},
   "outputs": [],
   "source": [
    "# Save and load model \n",
    "model.save(sc,\"../MLlib/model/\")\n",
    "sameModel = MatrixFactorizationModel.load(sc,\"../MLlib/model/\")"
   ]
  }
 ],
 "metadata": {
  "kernelspec": {
   "display_name": "Python 3.8.10 64-bit",
   "language": "python",
   "name": "python3"
  },
  "language_info": {
   "codemirror_mode": {
    "name": "ipython",
    "version": 3
   },
   "file_extension": ".py",
   "mimetype": "text/x-python",
   "name": "python",
   "nbconvert_exporter": "python",
   "pygments_lexer": "ipython3",
   "version": "3.8.10"
  },
  "orig_nbformat": 4,
  "vscode": {
   "interpreter": {
    "hash": "b6a4e67a56bdc7d891c2d79180421c870e75ec9ddbe53e904730ef458eca696e"
   }
  }
 },
 "nbformat": 4,
 "nbformat_minor": 2
}
