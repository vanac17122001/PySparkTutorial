{
 "cells": [
  {
   "cell_type": "code",
   "execution_count": 9,
   "metadata": {},
   "outputs": [],
   "source": [
    "from pyspark import SparkContext\n",
    "from pyspark import SparkFiles"
   ]
  },
  {
   "cell_type": "code",
   "execution_count": 10,
   "metadata": {},
   "outputs": [
    {
     "name": "stdout",
     "output_type": "stream",
     "text": [
      "Absolute Path -> C:\\Users\\cavan\\AppData\\Local\\Temp\\spark-a826a259-fd4d-40dd-b435-a529473d340f\\userFiles-2ff7ee8e-5a12-4f5c-9667-829155348f58\\xam.csv\n"
     ]
    }
   ],
   "source": [
    "finddistance = \"../Datasets/xam.csv\"\n",
    "finddistancename = \"xam.csv\"\n",
    "sc = SparkContext.getOrCreate()\n",
    "sc.addFile(finddistance)\n",
    "print(\"Absolute Path -> %s\" % SparkFiles.get(finddistancename))"
   ]
  }
 ],
 "metadata": {
  "kernelspec": {
   "display_name": "Python 3.8.10 64-bit",
   "language": "python",
   "name": "python3"
  },
  "language_info": {
   "codemirror_mode": {
    "name": "ipython",
    "version": 3
   },
   "file_extension": ".py",
   "mimetype": "text/x-python",
   "name": "python",
   "nbconvert_exporter": "python",
   "pygments_lexer": "ipython3",
   "version": "3.8.10"
  },
  "orig_nbformat": 4,
  "vscode": {
   "interpreter": {
    "hash": "b6a4e67a56bdc7d891c2d79180421c870e75ec9ddbe53e904730ef458eca696e"
   }
  }
 },
 "nbformat": 4,
 "nbformat_minor": 2
}
